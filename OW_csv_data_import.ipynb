{
  "nbformat": 4,
  "nbformat_minor": 0,
  "metadata": {
    "colab": {
      "name": "Untitled0.ipynb",
      "provenance": [],
      "collapsed_sections": [],
      "authorship_tag": "ABX9TyM4kPLieObBHxoK+3Mw7g2Y",
      "include_colab_link": true
    },
    "kernelspec": {
      "name": "python3",
      "display_name": "Python 3"
    }
  },
  "cells": [
    {
      "cell_type": "markdown",
      "metadata": {
        "id": "view-in-github",
        "colab_type": "text"
      },
      "source": [
        "<a href=\"https://colab.research.google.com/github/gjignacio/OpenWorks-.csv-data-import/blob/master/OW_csv_data_import.ipynb\" target=\"_parent\"><img src=\"https://colab.research.google.com/assets/colab-badge.svg\" alt=\"Open In Colab\"/></a>"
      ]
    },
    {
      "cell_type": "code",
      "metadata": {
        "id": "Na0onyoA5998",
        "colab_type": "code",
        "colab": {}
      },
      "source": [
        "import pandas as pd"
      ],
      "execution_count": 0,
      "outputs": []
    },
    {
      "cell_type": "code",
      "metadata": {
        "id": "87JNrenC5_Iz",
        "colab_type": "code",
        "colab": {}
      },
      "source": [
        "# VARIABLES DE ENTRADA:\n",
        "# 1) fileName: nombre/ruta del archivo a importar.\n",
        "# 2) nHeaderRows: cantidad de filas a saltear considerandolas como parte \n",
        "#                 del header de los datos.\n",
        "# 3) printQC: imprime las primeras 'nRowsQC' filas de datos para realizar un control de calidad.\n",
        "#             0 = False\n",
        "#             1 = True\n",
        "# 4) nRowsQC: cantidad de filas a imprimir en la opcion de QC.\n",
        "\n",
        "# VAIRABLES DE SALIDA:\n",
        "# 1) importedData: tabla de datos importados (en el formato de pandas DataFrame) \n",
        "\n",
        "# EJEMPLO:\n",
        "# datos = fileDataImport('DATOS.txt',0,1,25)\n"
      ],
      "execution_count": 0,
      "outputs": []
    },
    {
      "cell_type": "code",
      "metadata": {
        "id": "WrzwhCfc6CCo",
        "colab_type": "code",
        "colab": {}
      },
      "source": [
        "def fileDataImport(fileName,nHeaderRows = 0,printQC = 1,nRowsQC = 10):\n",
        "    #Importo las columnas de datos.\n",
        "    dataValues = pd.read_csv(fileName,\n",
        "                             sep=',',\n",
        "                             header = nHeaderRows, \n",
        "                             skiprows = 1)\n",
        "    \n",
        "    importedData = pd.DataFrame(dataValues)\n",
        "    \n",
        "    # OPCION DE QC: Impresion en pantalla de las primeras 10 lineas de datos.\n",
        "    if printQC == 1:\n",
        "        print(fileName)\n",
        "        print(importedData.head(nRowsQC))\n",
        "        \n",
        "    return importedData"
      ],
      "execution_count": 0,
      "outputs": []
    },
    {
      "cell_type": "code",
      "metadata": {
        "id": "t_nJZLbA6EmV",
        "colab_type": "code",
        "colab": {}
      },
      "source": [
        "fileName = \"wells_data.csv\"\n",
        "nHeaderRows = 0\n",
        "printQC = 0"
      ],
      "execution_count": 0,
      "outputs": []
    },
    {
      "cell_type": "code",
      "metadata": {
        "id": "jcJ5_4u66HdZ",
        "colab_type": "code",
        "colab": {}
      },
      "source": [
        "data = fileDataImport(fileName,nHeaderRows,printQC)"
      ],
      "execution_count": 0,
      "outputs": []
    },
    {
      "cell_type": "code",
      "metadata": {
        "id": "ul1XQldiVYOW",
        "colab_type": "code",
        "colab": {}
      },
      "source": [
        "data.iloc[:5,:]"
      ],
      "execution_count": 0,
      "outputs": []
    }
  ]
}