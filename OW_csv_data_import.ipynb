{
  "nbformat": 4,
  "nbformat_minor": 0,
  "metadata": {
    "colab": {
      "name": "Untitled0.ipynb",
      "provenance": [],
      "collapsed_sections": [],
      "authorship_tag": "ABX9TyMbKeeZ5TljMXjCf0mSL5rL",
      "include_colab_link": true
    },
    "kernelspec": {
      "name": "python3",
      "display_name": "Python 3"
    }
  },
  "cells": [
    {
      "cell_type": "markdown",
      "metadata": {
        "id": "view-in-github",
        "colab_type": "text"
      },
      "source": [
        "<a href=\"https://colab.research.google.com/github/gjignacio/OpenWorks-.csv-data-import/blob/master/OW_csv_data_import.ipynb\" target=\"_parent\"><img src=\"https://colab.research.google.com/assets/colab-badge.svg\" alt=\"Open In Colab\"/></a>"
      ]
    },
    {
      "cell_type": "code",
      "metadata": {
        "id": "Na0onyoA5998",
        "colab_type": "code",
        "colab": {}
      },
      "source": [
        "import pandas as pd"
      ],
      "execution_count": 0,
      "outputs": []
    },
    {
      "cell_type": "code",
      "metadata": {
        "id": "87JNrenC5_Iz",
        "colab_type": "code",
        "colab": {}
      },
      "source": [
        "# ENTRY PARAMETERS:\n",
        "# 1) fileName: nombre/ruta del archivo a importar.\n",
        "# 2) nHeaderRows: cantidad de filas a saltear considerandolas como parte \n",
        "#                 del header de los datos.\n",
        "# 3) printQC: imprime las primeras 'nRowsQC' filas de datos para realizar un control de calidad.\n",
        "#             0 = False\n",
        "#             1 = True\n",
        "# 4) nRowsQC: cantidad de filas a imprimir en la opcion de QC.\n",
        "\n",
        "# OUTPUT:\n",
        "# 1) importedData: tabla de datos importados (en el formato de pandas DataFrame) \n",
        "\n",
        "# EJEMPLO:\n",
        "# datos = fileDataImport('DATOS.txt',0,1,25)\n"
      ],
      "execution_count": 0,
      "outputs": []
    },
    {
      "cell_type": "code",
      "metadata": {
        "id": "WrzwhCfc6CCo",
        "colab_type": "code",
        "colab": {}
      },
      "source": [
        "def fileDataImport(fileName,nHeaderRows = 0,printQC = 1,nRowsQC = 10):\n",
        "    #Importo las columnas de datos.\n",
        "    dataValues = pd.read_csv(fileName,\n",
        "                             sep=',',\n",
        "                             header = nHeaderRows, \n",
        "                             skiprows = 1)\n",
        "    \n",
        "    importedData = pd.DataFrame(dataValues)\n",
        "    \n",
        "    # QC option: Print on screen the first 10 rows of data.\n",
        "    if printQC == 1:\n",
        "        print(fileName)\n",
        "        print(importedData.head(nRowsQC))\n",
        "        \n",
        "    return importedData"
      ],
      "execution_count": 0,
      "outputs": []
    },
    {
      "cell_type": "code",
      "metadata": {
        "id": "t_nJZLbA6EmV",
        "colab_type": "code",
        "colab": {}
      },
      "source": [
        "fileName = \"wells_data.csv\"\n",
        "nHeaderRows = 0\n",
        "printQC = 0"
      ],
      "execution_count": 0,
      "outputs": []
    },
    {
      "cell_type": "code",
      "metadata": {
        "id": "jcJ5_4u66HdZ",
        "colab_type": "code",
        "colab": {}
      },
      "source": [
        "data = fileDataImport(fileName,nHeaderRows,printQC)"
      ],
      "execution_count": 0,
      "outputs": []
    },
    {
      "cell_type": "code",
      "metadata": {
        "id": "-hh17VV26LL4",
        "colab_type": "code",
        "outputId": "5c1c826d-9651-43d4-dbbe-5ef7fa0ed3da",
        "colab": {
          "base_uri": "https://localhost:8080/",
          "height": 496
        }
      },
      "source": [
        "data.iloc[0:5,:]"
      ],
      "execution_count": 8,
      "outputs": [
        {
          "output_type": "execute_result",
          "data": {
            "text/html": [
              "<div>\n",
              "<style scoped>\n",
              "    .dataframe tbody tr th:only-of-type {\n",
              "        vertical-align: middle;\n",
              "    }\n",
              "\n",
              "    .dataframe tbody tr th {\n",
              "        vertical-align: top;\n",
              "    }\n",
              "\n",
              "    .dataframe thead th {\n",
              "        text-align: right;\n",
              "    }\n",
              "</style>\n",
              "<table border=\"1\" class=\"dataframe\">\n",
              "  <thead>\n",
              "    <tr style=\"text-align: right;\">\n",
              "      <th></th>\n",
              "      <th>* UWI</th>\n",
              "      <th>Common Well Name</th>\n",
              "      <th>Elev Type</th>\n",
              "      <th>Elevation (meters)</th>\n",
              "      <th>Total Depth (meters)</th>\n",
              "      <th>Current Status</th>\n",
              "      <th>Status Symbol</th>\n",
              "      <th>Spud Date</th>\n",
              "      <th>Completion Date</th>\n",
              "      <th>Field</th>\n",
              "      <th>County</th>\n",
              "      <th>State</th>\n",
              "      <th>Operator</th>\n",
              "      <th>Well Lease Name</th>\n",
              "      <th>Well Number</th>\n",
              "      <th>X Coordinate (meters)</th>\n",
              "      <th>Y Coordinate (meters)</th>\n",
              "      <th>X Coord Bh (meters)</th>\n",
              "      <th>Y Coord Bh (meters)</th>\n",
              "      <th>Remark</th>\n",
              "    </tr>\n",
              "  </thead>\n",
              "  <tbody>\n",
              "    <tr>\n",
              "      <th>0</th>\n",
              "      <td>540000067700</td>\n",
              "      <td>PVH-1034</td>\n",
              "      <td>KB</td>\n",
              "      <td>339.64</td>\n",
              "      <td>1761.0</td>\n",
              "      <td>OIL</td>\n",
              "      <td>48.0</td>\n",
              "      <td>NaN</td>\n",
              "      <td>2004-12-22</td>\n",
              "      <td>VALLE HERMOSO</td>\n",
              "      <td>UNKNOWN</td>\n",
              "      <td>UNKNOWN</td>\n",
              "      <td>PAN AMERICAN ENERGY LLC.</td>\n",
              "      <td>PAE.Ch.VH-1034</td>\n",
              "      <td>1034</td>\n",
              "      <td>2537007.15</td>\n",
              "      <td>4933592.93</td>\n",
              "      <td>NaN</td>\n",
              "      <td>NaN</td>\n",
              "      <td>NaN</td>\n",
              "    </tr>\n",
              "    <tr>\n",
              "      <th>1</th>\n",
              "      <td>540000068000</td>\n",
              "      <td>PVH-1068</td>\n",
              "      <td>KB</td>\n",
              "      <td>363.29</td>\n",
              "      <td>2150.4</td>\n",
              "      <td>INJECTOR</td>\n",
              "      <td>38.0</td>\n",
              "      <td>NaN</td>\n",
              "      <td>2005-01-05</td>\n",
              "      <td>VALLE HERMOSO</td>\n",
              "      <td>UNKNOWN</td>\n",
              "      <td>CHUBUT</td>\n",
              "      <td>PAN AMERICAN ENERGY LLC.</td>\n",
              "      <td>PAE.Ch.VH-1068</td>\n",
              "      <td>1068</td>\n",
              "      <td>2533401.60</td>\n",
              "      <td>4935378.39</td>\n",
              "      <td>NaN</td>\n",
              "      <td>NaN</td>\n",
              "      <td>NaN</td>\n",
              "    </tr>\n",
              "    <tr>\n",
              "      <th>2</th>\n",
              "      <td>540000068100</td>\n",
              "      <td>PLF-859</td>\n",
              "      <td>KB</td>\n",
              "      <td>296.82</td>\n",
              "      <td>1409.0</td>\n",
              "      <td>OIL</td>\n",
              "      <td>48.0</td>\n",
              "      <td>NaN</td>\n",
              "      <td>2005-01-07</td>\n",
              "      <td>Las Flores</td>\n",
              "      <td>UNKNOWN</td>\n",
              "      <td>Chubut</td>\n",
              "      <td>Pan American Energy</td>\n",
              "      <td>PAE.Ch.LF-859</td>\n",
              "      <td>859</td>\n",
              "      <td>2534096.04</td>\n",
              "      <td>4942828.76</td>\n",
              "      <td>2534096.04</td>\n",
              "      <td>4942828.76</td>\n",
              "      <td>NaN</td>\n",
              "    </tr>\n",
              "    <tr>\n",
              "      <th>3</th>\n",
              "      <td>540000070500</td>\n",
              "      <td>PVH-1017</td>\n",
              "      <td>KB</td>\n",
              "      <td>369.10</td>\n",
              "      <td>1580.0</td>\n",
              "      <td>OIL</td>\n",
              "      <td>48.0</td>\n",
              "      <td>NaN</td>\n",
              "      <td>2005-01-22</td>\n",
              "      <td>VALLE HERMOSO</td>\n",
              "      <td>SARMIENTO</td>\n",
              "      <td>CHUBUT</td>\n",
              "      <td>PAN AMERICAN ENERGY LLC.</td>\n",
              "      <td>PAE.Ch.VH-1017</td>\n",
              "      <td>1017</td>\n",
              "      <td>2537224.14</td>\n",
              "      <td>4928258.12</td>\n",
              "      <td>NaN</td>\n",
              "      <td>NaN</td>\n",
              "      <td>NaN</td>\n",
              "    </tr>\n",
              "    <tr>\n",
              "      <th>4</th>\n",
              "      <td>540000070600</td>\n",
              "      <td>PVH-1041</td>\n",
              "      <td>KB</td>\n",
              "      <td>421.31</td>\n",
              "      <td>1868.0</td>\n",
              "      <td>OIL</td>\n",
              "      <td>48.0</td>\n",
              "      <td>NaN</td>\n",
              "      <td>2005-01-09</td>\n",
              "      <td>VALLE HERMOSO</td>\n",
              "      <td>UNKNOWN</td>\n",
              "      <td>CHUBUT</td>\n",
              "      <td>PAN AMERICAN ENERGY LLC.</td>\n",
              "      <td>PAE.Ch.VH-1041</td>\n",
              "      <td>1041</td>\n",
              "      <td>2538914.93</td>\n",
              "      <td>4926030.96</td>\n",
              "      <td>NaN</td>\n",
              "      <td>NaN</td>\n",
              "      <td>NaN</td>\n",
              "    </tr>\n",
              "  </tbody>\n",
              "</table>\n",
              "</div>"
            ],
            "text/plain": [
              "          * UWI Common Well Name  ... Y Coord Bh (meters)  Remark\n",
              "0  540000067700         PVH-1034  ...                 NaN     NaN\n",
              "1  540000068000         PVH-1068  ...                 NaN     NaN\n",
              "2  540000068100          PLF-859  ...          4942828.76     NaN\n",
              "3  540000070500         PVH-1017  ...                 NaN     NaN\n",
              "4  540000070600         PVH-1041  ...                 NaN     NaN\n",
              "\n",
              "[5 rows x 20 columns]"
            ]
          },
          "metadata": {
            "tags": []
          },
          "execution_count": 8
        }
      ]
    },
    {
      "cell_type": "code",
      "metadata": {
        "id": "-znN5YeV6NYr",
        "colab_type": "code",
        "colab": {}
      },
      "source": [
        ""
      ],
      "execution_count": 0,
      "outputs": []
    }
  ]
}
